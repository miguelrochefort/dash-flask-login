{
  "nbformat": 4,
  "nbformat_minor": 0,
  "metadata": {
    "colab": {
      "name": "prepare_events_dataset.ipynb",
      "provenance": [],
      "collapsed_sections": []
    },
    "kernelspec": {
      "name": "python3",
      "display_name": "Python 3"
    }
  },
  "cells": [
    {
      "cell_type": "code",
      "execution_count": null,
      "metadata": {
        "colab": {
          "base_uri": "https://localhost:8080/",
          "height": 580
        },
        "id": "WT239Xdhm1HD",
        "outputId": "bf3e2c61-9043-4452-e437-de8a1416d68b"
      },
      "outputs": [],
      "source": [
        "from pandas.io.json import json_normalize\n",
        "import pandas as pd\n",
        "import json\n",
        "from datetime import timedelta\n",
        "from datetime import datetime, timedelta\n",
        "import pytz\n",
        "\n",
        "# TODO: You need to change the file path and bucket names\n",
        "thinkpad_data = json.load(open('/content/drive/My Drive/Backups/ActivityWatch-ThinkPadT420-20201019.json'))\n",
        "thinkpad_apps = thinkpad_data[\"buckets\"][\"aw-watcher-window_DESKTOP-MO13KN5\"][\"events\"]\n",
        "thinkpad_web = thinkpad_data[\"buckets\"][\"aw-watcher-web-chrome\"][\"events\"]\n",
        "\n",
        "df_thinkpad_apps = pd.DataFrame(thinkpad_apps)\n",
        "df_thinkpad_apps[\"type\"] = \"app\"\n",
        "df_thinkpad_web = pd.DataFrame(thinkpad_web)\n",
        "\n",
        "df = pd.concat([df_thinkpad_web, df_thinkpad_apps])\n",
        "\n",
        "df[\"start\"] = pd.to_datetime(df[\"timestamp\"], infer_datetime_format=True, utc=True)\n",
        "df[\"end\"] = df[\"start\"] + pd.to_timedelta(df[\"duration\"], unit=\"s\")\n",
        "df[\"duration\"] = df[\"end\"] - df[\"start\"]\n",
        "df = df.sort_values(\"start\")\n",
        "\n",
        "df[\"url\"] = df[\"data\"].apply(lambda data: data[\"url\"] if \"url\" in data else None)\n",
        "df[\"title\"] = df[\"data\"].apply(lambda data: data[\"title\"] if \"title\" in data else None)\n",
        "df[\"app\"] = df[\"data\"].apply(lambda data: data[\"app\"] if \"app\" in data else None)\n",
        "\n",
        "df = df[[\"start\", \"end\", \"app\", \"title\", \"url\"]]\n",
        "\n",
        "df.to_csv(\"events.csv\", index=False)\n",
        "\n",
        "df"
      ]
    }
  ]
}