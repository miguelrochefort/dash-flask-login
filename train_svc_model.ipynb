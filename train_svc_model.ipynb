{
  "nbformat": 4,
  "nbformat_minor": 0,
  "metadata": {
    "colab": {
      "name": "train_svc_model.ipynb",
      "provenance": [],
      "collapsed_sections": []
    },
    "kernelspec": {
      "name": "python3",
      "display_name": "Python 3"
    }
  },
  "cells": [
    {
      "cell_type": "code",
      "execution_count": null,
      "metadata": {
        "id": "gcY5QmTdfCSr"
      },
      "outputs": [],
      "source": [
        "import re\n",
        "from urllib.parse import urlparse\n",
        "from joblib import dump, load\n",
        "import ast\n",
        "import pandas as pd\n",
        "from sklearn.preprocessing import LabelEncoder\n",
        "from sklearn.feature_extraction.text import TfidfVectorizer\n",
        "from sklearn import model_selection, naive_bayes, svm\n",
        "from sklearn.metrics import accuracy_score"
      ]
    },
    {
      "cell_type": "code",
      "execution_count": null,
      "metadata": {
        "id": "t-E1AKHGdlCr"
      },
      "outputs": [],
      "source": [
        "def preprocess_text(text):\n",
        "  return \" \".join(text.lower().split(\" \"))\n",
        "\n",
        "def event_to_text(event):\n",
        "  return preprocess_text(str(event.app) + \" \" + str(event.title) + \" \" + str(event.url))"
      ]
    },
    {
      "cell_type": "code",
      "execution_count": null,
      "metadata": {
        "colab": {
          "base_uri": "https://localhost:8080/",
          "height": 945
        },
        "id": "8ATKpiHjdygY",
        "outputId": "c9d17702-2a18-495f-8f69-f1481d1f6ecd"
      },
      "outputs": [],
      "source": [
        "df = pd.read_csv(\"data/labeled_events.csv\", parse_dates=[\"start\", \"end\"], converters={'topics': ast.literal_eval})\n",
        "df[\"x\"] = df.apply(event_to_text, axis=1)\n",
        "df[\"y\"] = df[\"topics\"].str.len() > 0\n",
        "df"
      ]
    },
    {
      "cell_type": "code",
      "execution_count": null,
      "metadata": {
        "colab": {
          "base_uri": "https://localhost:8080/"
        },
        "id": "U2DeGhS1d0w1",
        "outputId": "0ef1873c-c360-4f06-b0d5-3a65eb559a96"
      },
      "outputs": [],
      "source": [
        "# Step 1: Load the data\n",
        "df = df.copy()\n",
        "x = df[\"x\"]\n",
        "y = df[\"y\"]\n",
        "\n",
        "# Step 2: Split the model into Train and Test dataset\n",
        "Train_X, Test_X, Train_Y, Test_Y = model_selection.train_test_split(x, y,test_size=0.3)\n",
        "\n",
        "# Step 3: Encode the data\n",
        "Encoder = LabelEncoder()\n",
        "Train_Y = Encoder.fit_transform(Train_Y)\n",
        "Test_Y = Encoder.fit_transform(Test_Y)\n",
        "\n",
        "# Step 4: Vectorize the words by using the TF-IDF vectorizer\n",
        "vectorizer = TfidfVectorizer(max_features=5000)\n",
        "vectorizer.fit(x.astype(str))\n",
        "\n",
        "Train_X_vector = vectorizer.transform(Train_X)\n",
        "Test_X_vector = vectorizer.transform(Test_X)\n",
        "\n",
        "# Step 5: Train the model\n",
        "svc = svm.SVC(C=1.0, kernel='linear', degree=3, gamma='auto')\n",
        "svc.fit(Train_X_vector, Train_Y)\n",
        "\n",
        "# Step 6: Predict the labels on the validation dataset\n",
        "predictions = svc.predict(Test_X_vector)\n",
        "\n",
        "# Step 7: Evaluate the accuracy of the model\n",
        "print(\"Support Vector Classifier accuracy: \", accuracy_score(predictions, Test_Y))\n",
        "\n",
        "# Step 8: Save the vectorizer and model\n",
        "dump(vectorizer, 'vectorizer.joblib')\n",
        "dump(svc, 'svc.joblib') "
      ]
    },
    {
      "cell_type": "code",
      "execution_count": null,
      "metadata": {
        "colab": {
          "base_uri": "https://localhost:8080/"
        },
        "id": "t8J3m0boePOC",
        "outputId": "35d49e61-0cee-49b5-cab9-0db49946b29a"
      },
      "outputs": [],
      "source": [
        "svc = load('data/svc.joblib')\n",
        "vectorizer = load('data/vectorizer.joblib')\n",
        "\n",
        "def predict_svm(docs):\n",
        "  processed_docs = map(preprocess_text, docs)\n",
        "  vector = vectorizer.transform(docs)\n",
        "  return svc.predict(vector)\n",
        "\n",
        "predict_svm([\n",
        "             \"Calculus\", \n",
        "             \"Amazon Shopping\", \n",
        "             \"WGU\", \n",
        "             \"Facebook\", \n",
        "             \"JavaFX\", \n",
        "             \"youtube.com\", \n",
        "             \"my.wgu.edu\", \n",
        "             \"Twitter\", \n",
        "             \"Examity\",\n",
        "             \"Instagram\",\n",
        "             \"zyBooks\",\n",
        "             \"news.ycombinator.com\",\n",
        "             \"uCertify\",\n",
        "             \"Amazon Shopping\",\n",
        "             \"devenv.exe\",\n",
        "             \"Reddit\",\n",
        "             \"WINWORD.exe\",\n",
        "             \"Gmail\",\n",
        "             \"C191 Operating Systems\"\n",
        "             ])"
      ]
    }
  ]
}